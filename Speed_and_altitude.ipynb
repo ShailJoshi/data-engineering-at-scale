{
  "nbformat": 4,
  "nbformat_minor": 0,
  "metadata": {
    "colab": {
      "name": "Speed_and_altitude.ipynb",
      "provenance": [],
      "collapsed_sections": []
    },
    "kernelspec": {
      "name": "python3",
      "display_name": "Python 3"
    },
    "language_info": {
      "name": "python"
    }
  },
  "cells": [
    {
      "cell_type": "code",
      "execution_count": 1,
      "metadata": {
        "id": "eq8ItfoBSqyy",
        "colab": {
          "base_uri": "https://localhost:8080/"
        },
        "outputId": "f8f4c730-387d-4804-9cce-7cea19e3967b"
      },
      "outputs": [
        {
          "output_type": "stream",
          "name": "stdout",
          "text": [
            "Mounted at /content/drive\n"
          ]
        }
      ],
      "source": [
        "from google.colab import drive\n",
        "drive.mount('/content/drive')\n",
        "!apt-get install openjdk-8-jdk-headless -qq > /dev/null\n",
        "#!wget -q https://mirrors.estointernet.in/apache/spark/spark-3.0.3/spark-3.0.3-bin-hadoop2.7.tgz -P /content/drive/MyDrive # link wrong in blog\n",
        "!tar xf /content/drive/Shareddrives/DA231-2021-Aug-Public/spark-3.0.3-bin-hadoop2.7.tgz\n",
        "!pip install -q findspark\n",
        "import os\n",
        "os.environ[\"JAVA_HOME\"] = \"/usr/lib/jvm/java-8-openjdk-amd64\"\n",
        "os.environ[\"SPARK_HOME\"] = \"/content/spark-3.0.3-bin-hadoop2.7\""
      ]
    },
    {
      "cell_type": "code",
      "source": [
        "import findspark\n",
        "findspark.init()\n",
        "findspark.find()\n",
        "from pyspark.sql import SparkSession\n",
        "spark = SparkSession.builder\\\n",
        "         .master(\"local\")\\\n",
        "         .appName(\"Colab\")\\\n",
        "         .config('spark.ui.port', '4050')\\\n",
        "         .config('spark.driver.memory', '4g')\\\n",
        "         .config('spark.executor.memory', '4g')\\\n",
        "         .config('spark.python.worker.memory', '2g')\\\n",
        "         .getOrCreate()\n",
        "spark\n",
        "\n",
        "from pyspark import SparkContext, SparkConf\n",
        "import sys\n",
        "import json\n",
        "#from pyspark.sql.types import StructType, StructField, IntegerType, StringType\n",
        "from pyspark.sql.types import *\n",
        "#from pyspark.sql.functions import *\n",
        "import pyspark.sql.functions as F\n",
        "sc = SparkContext.getOrCreate()"
      ],
      "metadata": {
        "id": "UH5uVkGxiY1c"
      },
      "execution_count": 2,
      "outputs": []
    },
    {
      "cell_type": "code",
      "source": [
        "# list of 182 users\n",
        "num_enabled_users = 2\n",
        "user_list = list(range(num_enabled_users))\n",
        "if (128 in user_list):\n",
        "  user_list.remove(128)\n",
        "\n",
        "# define schema\n",
        "schema = StructType([\n",
        "    StructField(\"Lat\", StringType(), True), StructField(\"Long\", StringType(), True), StructField(\"Zero\", StringType(), True), StructField(\"Alt\", StringType(), True), StructField(\"DayCount\", StringType(), True), StructField(\"Date\", StringType(), True), StructField(\"Time\", StringType(), True), StructField(\"UserId\", StringType(), True)\n",
        "])\n",
        "\n",
        "# empty combined df\n",
        "df_combine = spark.createDataFrame([], schema)\n",
        "\n",
        "\n",
        "for ii in range(len(user_list)):\n",
        "  folder_name = \"{0:0=3d}\".format(user_list[ii])\n",
        "  data_user = \"/content/drive/MyDrive/DataEngAtScaleProject/GeolifeTrajectories/Data/\"+folder_name+\"/Trajectory/*.plt\"\n",
        "  #data_user = \"/content/drive/MyDrive/DataEngAtScaleProject/GeolifeTrajectories/Data/000/Trajectory/20081023025304.plt\"\n",
        "  #data000 = \"/content/drive/MyDrive/DataEngAtScaleProject/GeolifeTrajectories/Data/000/Trajectory/20081023025304.plt\"\n",
        "\n",
        "  # read as rdd\n",
        "  read_user = sc.textFile(data_user)\n",
        "\n",
        "  # remove header lines and split the values\n",
        "  rdd_user = read_user.filter(lambda x: len(x)>40).map(lambda l :  l.split(\",\"))\n",
        "\n",
        "  # convert rdd to dataframe\n",
        "  df_user = spark.createDataFrame(rdd_user).toDF(\"Lat\",\"Long\",\"Zero\",\"Alt\",\"DayCount\",\"Date\",\"Time\").withColumn(\"UserId\",F.lit(folder_name)).cache()\n",
        "  df_combine = df_combine.union(df_user).cache()\n",
        "\n",
        "df_combine = df_combine.select(F.col(\"Lat\").cast(DoubleType()).alias(\"Lat\"), F.col(\"Long\").cast(DoubleType()).alias(\"Long\"), F.col(\"Alt\").cast(IntegerType()).alias(\"Alt\"), F.col(\"DayCount\").cast(DoubleType()).alias(\"DayCount\"), F.col(\"Date\").cast(DateType()).alias(\"Date\"), \"Time\", \"UserId\").cache()\n",
        "\n",
        "print(df_combine.take(5))\n",
        "#print(df_combine.count())"
      ],
      "metadata": {
        "colab": {
          "base_uri": "https://localhost:8080/"
        },
        "id": "QH2w99uSii_r",
        "outputId": "575a99e3-20f5-43d9-e023-5a53841a70fc"
      },
      "execution_count": 3,
      "outputs": [
        {
          "output_type": "stream",
          "name": "stdout",
          "text": [
            "[Row(Lat=40.008312, Long=116.320953, Alt=491, DayCount=39765.157037037, Date=datetime.date(2008, 11, 13), Time='03:46:08', UserId='000'), Row(Lat=40.00843, Long=116.321055, Alt=492, DayCount=39765.1570949074, Date=datetime.date(2008, 11, 13), Time='03:46:13', UserId='000'), Row(Lat=40.00849, Long=116.321025, Alt=491, DayCount=39765.1571527778, Date=datetime.date(2008, 11, 13), Time='03:46:18', UserId='000'), Row(Lat=40.008486, Long=116.320962, Alt=491, DayCount=39765.1572106481, Date=datetime.date(2008, 11, 13), Time='03:46:23', UserId='000'), Row(Lat=40.008446, Long=116.320811, Alt=491, DayCount=39765.1572685185, Date=datetime.date(2008, 11, 13), Time='03:46:28', UserId='000')]\n"
          ]
        }
      ]
    },
    {
      "cell_type": "code",
      "source": [
        "# Important library for many geopython libraries\n",
        "!apt install gdal-bin python-gdal python3-gdal \n",
        "# Install rtree - Geopandas requirment\n",
        "!apt install python3-rtree \n",
        "# Install Geopandas\n",
        "!pip install git+git://github.com/geopandas/geopandas.git\n",
        "# Install descartes - Geopandas requirment\n",
        "!pip install descartes \n",
        "# Install Folium for Geographic data visualization\n",
        "!pip install folium\n",
        "# Install plotlyExpress\n",
        "!pip install plotly_express\n",
        "\n",
        "!pip install haversine"
      ],
      "metadata": {
        "id": "kHhq-diritoW"
      },
      "execution_count": null,
      "outputs": []
    },
    {
      "cell_type": "code",
      "source": [
        "from pyspark.sql.window import Window\n",
        "from haversine import haversine\n",
        "import pandas as pd\n",
        "from pyspark.sql.functions import pandas_udf\n",
        "\n",
        "from datetime import datetime, date, time\n",
        "import pyspark.sql.functions as F\n",
        "\n",
        "@pandas_udf(\"double\")\n",
        "def haversine_udf(lat: pd.Series, lon: pd.Series) -> float:\n",
        "    if len(lat.tolist()) == 2:\n",
        "      return haversine((lat.tolist()[0], lon.to_list()[0]), \n",
        "                       (lat.to_list()[1], lon.to_list()[1]))\n",
        "    else:\n",
        "      return -1\n",
        "\n",
        "@pandas_udf(\"double\")\n",
        "def diffce_udf(times: pd.Series) -> float:\n",
        "  if len(times.tolist()) == 2:\n",
        "      time1 = time.fromisoformat(times.tolist()[1])\n",
        "      time0 = time.fromisoformat(times.to_list()[0])\n",
        "      return (datetime.combine(date.min, time1) - datetime.combine(date.min, time0)).total_seconds()/3600\n",
        "  else:\n",
        "      return -1\n",
        "\n",
        "w = Window.partitionBy(\"UserId\", \"Date\").orderBy(\"Time\").rowsBetween(-1, 0)\n",
        "df_speed = df_combine.withColumn(\"distance\", haversine_udf(\"Lat\", \"Long\").over(w)) \\\n",
        "            .withColumn(\"elapsed_time\", diffce_udf(\"Time\").over(w)) \\\n",
        "            .withColumn(\"speed\", F.col(\"distance\")/F.col(\"elapsed_time\")) \\\n",
        "            .filter(F.col(\"distance\") != -1).cache()\n",
        "\n",
        "print(df_speed.take(5))"
      ],
      "metadata": {
        "colab": {
          "base_uri": "https://localhost:8080/"
        },
        "id": "rIPFG3diiwVX",
        "outputId": "584b4f34-8591-405b-b60f-300063af778f"
      },
      "execution_count": 5,
      "outputs": [
        {
          "output_type": "stream",
          "name": "stdout",
          "text": [
            "[Row(Lat=39.984198, Long=116.319322, Alt=492, DayCount=39744.2452083333, Date=datetime.date(2008, 10, 23), Time='05:53:06', UserId='001', distance=0.013690172043988575, elapsed_time=0.0002777777777777778, speed=49.284619358358874), Row(Lat=39.984224, Long=116.319402, Alt=492, DayCount=39744.2452662037, Date=datetime.date(2008, 10, 23), Time='05:53:11', UserId='001', distance=0.007403798093079055, elapsed_time=0.001388888888888889, speed=5.33073462701692), Row(Lat=39.984211, Long=116.319389, Alt=492, DayCount=39744.2453240741, Date=datetime.date(2008, 10, 23), Time='05:53:16', UserId='001', distance=0.0018210859091874253, elapsed_time=0.001388888888888889, speed=1.311181854614946), Row(Lat=39.984217, Long=116.319422, Alt=491, DayCount=39744.2453819444, Date=datetime.date(2008, 10, 23), Time='05:53:21', UserId='001', distance=0.002889675178932522, elapsed_time=0.001388888888888889, speed=2.080566128831416), Row(Lat=39.98471, Long=116.319865, Alt=320, DayCount=39744.2454050926, Date=datetime.date(2008, 10, 23), Time='05:53:23', UserId='001', distance=0.06655608860388817, elapsed_time=0.0005555555555555556, speed=119.80095948699872)]\n"
          ]
        }
      ]
    },
    {
      "cell_type": "code",
      "source": [
        "from pyspark.ml import Pipeline\n",
        "from pyspark.ml.feature import VectorAssembler\n",
        "from pyspark.ml.regression import RandomForestRegressor\n",
        "from pyspark.ml.regression import LinearRegression\n",
        "from pyspark.ml.evaluation import RegressionEvaluator\n",
        "from pyspark.ml.evaluation import Evaluator\n",
        "\n",
        "class MAPEEvaluator(Evaluator): # TODO: Fix class inheritance\n",
        "  def __init__(self, predictionCol=\"prediction\", labelCol=\"label\"):\n",
        "    self.predictionCol = predictionCol\n",
        "    self.labelCol = labelCol\n",
        "\n",
        "  def _evaluate(self, dataset):\n",
        "    return evaluate(dataset, predictionCol, labelCol)\n",
        "\n",
        "  def evaluate(dataset, predictionCol=\"prediction\", labelCol=\"label\"): # FIXME\n",
        "    mapeDF = dataset.withColumn(\"ape\", (F.col(predictionCol)-F.col(labelCol)) / F.col(labelCol))  \\\n",
        "      .groupBy().avg(\"ape\").select(\"avg(ape)\").withColumnRenamed(\"avg(ape)\", \"mape\")\n",
        "    r = mapeDF.collect()\n",
        "    answer = [(row.mape) for row in r]\n",
        "    return answer[0] * 100\n",
        "\n",
        "\n",
        "df_speed = df_speed.filter(df_speed.Alt.isNotNull() & (df_speed.speed < 100) & (df_speed.Alt > -1000) & (df_speed.Alt < 2000)).withColumn(\"hour\", F.col(\"Time\").substr(0,2).cast(IntegerType()))\n",
        "df_speed = df_speed.filter((df_speed.Lat > 39) & (df_speed.Lat < 41) & (df_speed.Long > 115) & (df_speed.Long < 117))\n",
        "print(df_speed.take(5))\n",
        "\n",
        "plottable = df_speed.toPandas()\n",
        "plottable.plot(x = \"Alt\", y = \"speed\", kind = 'scatter')\n",
        "\n",
        "\n",
        "toPredict = \"speed\"\n",
        "\n",
        "vectorAssembler = VectorAssembler(inputCols=[\"Alt\"], outputCol=\"features\")\n",
        "regressor = LinearRegression(featuresCol='features', labelCol=toPredict)\n",
        "pipeline = Pipeline(stages=[vectorAssembler, regressor])\n",
        "\n",
        "\n",
        "inputTrainDF, inputTestDF = df_speed.randomSplit([0.8, 0.2], seed=10)\n",
        "print(inputTrainDF.take(5))\n",
        "print(inputTestDF.take(5))\n",
        "\n",
        "model = pipeline.fit(inputTrainDF)\n",
        "\n",
        "predDF = model.transform(inputTestDF)\n",
        "\n",
        "evaluator = RegressionEvaluator(predictionCol=\"prediction\", labelCol=toPredict)\n",
        "\n",
        "mae = evaluator.evaluate(predDF, {evaluator.metricName: \"mae\"})\n",
        "rmse = evaluator.evaluate(predDF, {evaluator.metricName: \"rmse\"})\n",
        "r2 = evaluator.evaluate(predDF, {evaluator.metricName: \"r2\"})\n",
        "mape = MAPEEvaluator.evaluate(predDF, predictionCol=\"prediction\", labelCol=toPredict)\n",
        "\n",
        "print(f\"answer2)-  {r2}, {mape}, {mae}, {rmse}\")"
      ],
      "metadata": {
        "colab": {
          "base_uri": "https://localhost:8080/",
          "height": 369
        },
        "id": "EzfB8Moxi315",
        "outputId": "9c676da1-6edb-4c19-a130-8153d565b3e7"
      },
      "execution_count": 8,
      "outputs": [
        {
          "output_type": "stream",
          "name": "stdout",
          "text": [
            "[Row(Lat=39.984198, Long=116.319322, Alt=492, DayCount=39744.2452083333, Date=datetime.date(2008, 10, 23), Time='05:53:06', UserId='001', distance=0.013690172043988575, elapsed_time=0.0002777777777777778, speed=49.284619358358874, hour=5), Row(Lat=39.984224, Long=116.319402, Alt=492, DayCount=39744.2452662037, Date=datetime.date(2008, 10, 23), Time='05:53:11', UserId='001', distance=0.007403798093079055, elapsed_time=0.001388888888888889, speed=5.33073462701692, hour=5), Row(Lat=39.984211, Long=116.319389, Alt=492, DayCount=39744.2453240741, Date=datetime.date(2008, 10, 23), Time='05:53:16', UserId='001', distance=0.0018210859091874253, elapsed_time=0.001388888888888889, speed=1.311181854614946, hour=5), Row(Lat=39.984217, Long=116.319422, Alt=491, DayCount=39744.2453819444, Date=datetime.date(2008, 10, 23), Time='05:53:21', UserId='001', distance=0.002889675178932522, elapsed_time=0.001388888888888889, speed=2.080566128831416, hour=5), Row(Lat=39.984674, Long=116.31981, Alt=325, DayCount=39744.245462963, Date=datetime.date(2008, 10, 23), Time='05:53:28', UserId='001', distance=0.006162995478807278, elapsed_time=0.001388888888888889, speed=4.43735674474124, hour=5)]\n",
            "[Row(Lat=39.970511, Long=116.341455, Alt=492, DayCount=39744.4395023148, Date=datetime.date(2008, 10, 23), Time='10:32:53', UserId='001', distance=1.4523211215052125, elapsed_time=4.515555555555555, speed=0.32162623261680395, hour=10), Row(Lat=39.977586, Long=116.326918, Alt=296, DayCount=39744.4396412037, Date=datetime.date(2008, 10, 23), Time='10:33:05', UserId='001', distance=0.006919848819382984, elapsed_time=0.001388888888888889, speed=4.982291149955748, hour=10), Row(Lat=39.977596, Long=116.326894, Alt=299, DayCount=39744.4396990741, Date=datetime.date(2008, 10, 23), Time='10:33:10', UserId='001', distance=0.0023277582387970686, elapsed_time=0.001388888888888889, speed=1.6759859319338892, hour=10), Row(Lat=39.977647, Long=116.326951, Alt=277, DayCount=39744.4398032407, Date=datetime.date(2008, 10, 23), Time='10:33:19', UserId='001', distance=0.001593605630467908, elapsed_time=0.001388888888888889, speed=1.1473960539368937, hour=10), Row(Lat=39.977661, Long=116.326947, Alt=280, DayCount=39744.4397453704, Date=datetime.date(2008, 10, 23), Time='10:33:14', UserId='001', distance=0.008522556279036088, elapsed_time=0.0011111111111111111, speed=7.67030065113248, hour=10)]\n",
            "[Row(Lat=39.977653, Long=116.326857, Alt=261, DayCount=39744.4398611111, Date=datetime.date(2008, 10, 23), Time='10:33:24', UserId='001', distance=0.008037313781892798, elapsed_time=0.001388888888888889, speed=5.786865922962814, hour=10), Row(Lat=39.978311, Long=116.327259, Alt=112, DayCount=39744.2509722222, Date=datetime.date(2008, 10, 23), Time='06:01:24', UserId='001', distance=0.013183122455262897, elapsed_time=0.0011111111111111111, speed=11.864810209736607, hour=6), Row(Lat=39.978429, Long=116.327274, Alt=111, DayCount=39744.2509259259, Date=datetime.date(2008, 10, 23), Time='06:01:20', UserId='001', distance=0.011455945519785715, elapsed_time=0.0008333333333333334, speed=13.747134623742857, hour=6), Row(Lat=39.978532, Long=116.327277, Alt=110, DayCount=39744.2508912037, Date=datetime.date(2008, 10, 23), Time='06:01:17', UserId='001', distance=0.010265371316190658, elapsed_time=0.0008333333333333334, speed=12.318445579428788, hour=6), Row(Lat=39.978624, Long=116.327267, Alt=111, DayCount=39744.2508564815, Date=datetime.date(2008, 10, 23), Time='06:01:14', UserId='001', distance=0.010933338506734787, elapsed_time=0.0008333333333333334, speed=13.120006208081744, hour=6)]\n",
            "answer2)-  0.006184825595645704, 1293.9705164765621, 12.143030875781607, 17.277369835415556\n"
          ]
        },
        {
          "output_type": "display_data",
          "data": {
            "image/png": "[encoded data removed]",
            "text/plain": [
              "<Figure size 432x288 with 1 Axes>"
            ]
          },
          "metadata": {
            "needs_background": "light"
          }
        }
      ]
    },
    {
      "cell_type": "code",
      "source": [
        ""
      ],
      "metadata": {
        "id": "VmTxbxTRp3Y2"
      },
      "execution_count": null,
      "outputs": []
    }
  ]
}